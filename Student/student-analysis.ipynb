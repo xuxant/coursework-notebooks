{
 "cells": [
  {
   "cell_type": "code",
   "execution_count": 1,
   "id": "ce5565fb-c8cb-4ca7-b37c-90a359960141",
   "metadata": {},
   "outputs": [],
   "source": [
    "import pandas as pd\n",
    "import seaborn as sns\n",
    "import matplotlib.pyplot as plt"
   ]
  },
  {
   "cell_type": "code",
   "execution_count": 2,
   "id": "45418416-892e-4ae1-af3c-68a964079d34",
   "metadata": {},
   "outputs": [],
   "source": [
    "data = pd.read_csv(\"student.csv\")"
   ]
  },
  {
   "cell_type": "code",
   "execution_count": 3,
   "id": "43e613e4-25f3-41ae-8975-6867cbde5699",
   "metadata": {},
   "outputs": [
    {
     "data": {
      "text/plain": [
       "{'school': {'Unique': ['GP', 'MS']},\n",
       " 'address': {'Unique': ['U', 'R']},\n",
       " 'sex': {'Unique': ['F', 'M']},\n",
       " 'famsize': {'Unique': ['GT3', 'LE3']},\n",
       " 'Pstatus': {'Unique': ['A', 'T']},\n",
       " 'schoolsup': {'Unique': ['yes', 'no']},\n",
       " 'famsup': {'Unique': ['no', 'yes']},\n",
       " 'paid': {'Unique': ['no', 'yes']},\n",
       " 'activities': {'Unique': ['no', 'yes']},\n",
       " 'nursery': {'Unique': ['yes', 'no']},\n",
       " 'higher': {'Unique': ['yes', 'no']},\n",
       " 'internet': {'Unique': ['no', 'yes']},\n",
       " 'romantic': {'Unique': ['no', 'yes']}}"
      ]
     },
     "execution_count": 3,
     "metadata": {},
     "output_type": "execute_result"
    }
   ],
   "source": [
    "# Check if the required column for transformation is binary or not\n",
    "column_to_convert = [\"school\", \"address\", \"sex\", \"famsize\", \"Pstatus\", \"schoolsup\", \n",
    "                     \"famsup\", \"paid\", \"activities\", \"nursery\", \"higher\", \"internet\", \"romantic\"]\n",
    "column_data_type = {\n",
    "    var : {\n",
    "        \"Unique\": (data[var].unique()).tolist()\n",
    "    } for var in column_to_convert\n",
    "}\n",
    "column_data_type"
   ]
  },
  {
   "cell_type": "code",
   "execution_count": 4,
   "id": "25d16389-c98c-4f1b-8855-888cd9d8265c",
   "metadata": {},
   "outputs": [
    {
     "data": {
      "text/html": [
       "<div>\n",
       "<style scoped>\n",
       "    .dataframe tbody tr th:only-of-type {\n",
       "        vertical-align: middle;\n",
       "    }\n",
       "\n",
       "    .dataframe tbody tr th {\n",
       "        vertical-align: top;\n",
       "    }\n",
       "\n",
       "    .dataframe thead th {\n",
       "        text-align: right;\n",
       "    }\n",
       "</style>\n",
       "<table border=\"1\" class=\"dataframe\">\n",
       "  <thead>\n",
       "    <tr style=\"text-align: right;\">\n",
       "      <th></th>\n",
       "      <th>school</th>\n",
       "      <th>binary_school</th>\n",
       "      <th>sex</th>\n",
       "      <th>binary_sex</th>\n",
       "      <th>address</th>\n",
       "      <th>binary_address</th>\n",
       "      <th>famsize</th>\n",
       "      <th>binary_famsize</th>\n",
       "      <th>Pstatus</th>\n",
       "      <th>binary_Pstatus</th>\n",
       "      <th>...</th>\n",
       "      <th>activities</th>\n",
       "      <th>binary_activities</th>\n",
       "      <th>nursery</th>\n",
       "      <th>binary_nursery</th>\n",
       "      <th>higher</th>\n",
       "      <th>binary_higher</th>\n",
       "      <th>internet</th>\n",
       "      <th>binary_internet</th>\n",
       "      <th>romantic</th>\n",
       "      <th>binary_romantic</th>\n",
       "    </tr>\n",
       "  </thead>\n",
       "  <tbody>\n",
       "    <tr>\n",
       "      <th>385</th>\n",
       "      <td>MS</td>\n",
       "      <td>1</td>\n",
       "      <td>F</td>\n",
       "      <td>0</td>\n",
       "      <td>R</td>\n",
       "      <td>1</td>\n",
       "      <td>GT3</td>\n",
       "      <td>1</td>\n",
       "      <td>T</td>\n",
       "      <td>0</td>\n",
       "      <td>...</td>\n",
       "      <td>no</td>\n",
       "      <td>0</td>\n",
       "      <td>yes</td>\n",
       "      <td>1</td>\n",
       "      <td>yes</td>\n",
       "      <td>1</td>\n",
       "      <td>no</td>\n",
       "      <td>0</td>\n",
       "      <td>no</td>\n",
       "      <td>0</td>\n",
       "    </tr>\n",
       "    <tr>\n",
       "      <th>386</th>\n",
       "      <td>MS</td>\n",
       "      <td>1</td>\n",
       "      <td>F</td>\n",
       "      <td>0</td>\n",
       "      <td>R</td>\n",
       "      <td>1</td>\n",
       "      <td>GT3</td>\n",
       "      <td>1</td>\n",
       "      <td>T</td>\n",
       "      <td>0</td>\n",
       "      <td>...</td>\n",
       "      <td>yes</td>\n",
       "      <td>1</td>\n",
       "      <td>yes</td>\n",
       "      <td>1</td>\n",
       "      <td>yes</td>\n",
       "      <td>1</td>\n",
       "      <td>yes</td>\n",
       "      <td>1</td>\n",
       "      <td>yes</td>\n",
       "      <td>1</td>\n",
       "    </tr>\n",
       "    <tr>\n",
       "      <th>387</th>\n",
       "      <td>MS</td>\n",
       "      <td>1</td>\n",
       "      <td>F</td>\n",
       "      <td>0</td>\n",
       "      <td>R</td>\n",
       "      <td>1</td>\n",
       "      <td>GT3</td>\n",
       "      <td>1</td>\n",
       "      <td>T</td>\n",
       "      <td>0</td>\n",
       "      <td>...</td>\n",
       "      <td>yes</td>\n",
       "      <td>1</td>\n",
       "      <td>no</td>\n",
       "      <td>0</td>\n",
       "      <td>yes</td>\n",
       "      <td>1</td>\n",
       "      <td>yes</td>\n",
       "      <td>1</td>\n",
       "      <td>no</td>\n",
       "      <td>0</td>\n",
       "    </tr>\n",
       "    <tr>\n",
       "      <th>388</th>\n",
       "      <td>MS</td>\n",
       "      <td>1</td>\n",
       "      <td>F</td>\n",
       "      <td>0</td>\n",
       "      <td>U</td>\n",
       "      <td>0</td>\n",
       "      <td>LE3</td>\n",
       "      <td>0</td>\n",
       "      <td>T</td>\n",
       "      <td>0</td>\n",
       "      <td>...</td>\n",
       "      <td>no</td>\n",
       "      <td>0</td>\n",
       "      <td>yes</td>\n",
       "      <td>1</td>\n",
       "      <td>yes</td>\n",
       "      <td>1</td>\n",
       "      <td>yes</td>\n",
       "      <td>1</td>\n",
       "      <td>no</td>\n",
       "      <td>0</td>\n",
       "    </tr>\n",
       "    <tr>\n",
       "      <th>389</th>\n",
       "      <td>MS</td>\n",
       "      <td>1</td>\n",
       "      <td>F</td>\n",
       "      <td>0</td>\n",
       "      <td>U</td>\n",
       "      <td>0</td>\n",
       "      <td>GT3</td>\n",
       "      <td>1</td>\n",
       "      <td>T</td>\n",
       "      <td>0</td>\n",
       "      <td>...</td>\n",
       "      <td>yes</td>\n",
       "      <td>1</td>\n",
       "      <td>yes</td>\n",
       "      <td>1</td>\n",
       "      <td>yes</td>\n",
       "      <td>1</td>\n",
       "      <td>no</td>\n",
       "      <td>0</td>\n",
       "      <td>no</td>\n",
       "      <td>0</td>\n",
       "    </tr>\n",
       "    <tr>\n",
       "      <th>390</th>\n",
       "      <td>MS</td>\n",
       "      <td>1</td>\n",
       "      <td>M</td>\n",
       "      <td>1</td>\n",
       "      <td>U</td>\n",
       "      <td>0</td>\n",
       "      <td>LE3</td>\n",
       "      <td>0</td>\n",
       "      <td>A</td>\n",
       "      <td>1</td>\n",
       "      <td>...</td>\n",
       "      <td>no</td>\n",
       "      <td>0</td>\n",
       "      <td>yes</td>\n",
       "      <td>1</td>\n",
       "      <td>yes</td>\n",
       "      <td>1</td>\n",
       "      <td>no</td>\n",
       "      <td>0</td>\n",
       "      <td>no</td>\n",
       "      <td>0</td>\n",
       "    </tr>\n",
       "    <tr>\n",
       "      <th>391</th>\n",
       "      <td>MS</td>\n",
       "      <td>1</td>\n",
       "      <td>M</td>\n",
       "      <td>1</td>\n",
       "      <td>U</td>\n",
       "      <td>0</td>\n",
       "      <td>LE3</td>\n",
       "      <td>0</td>\n",
       "      <td>T</td>\n",
       "      <td>0</td>\n",
       "      <td>...</td>\n",
       "      <td>no</td>\n",
       "      <td>0</td>\n",
       "      <td>no</td>\n",
       "      <td>0</td>\n",
       "      <td>yes</td>\n",
       "      <td>1</td>\n",
       "      <td>yes</td>\n",
       "      <td>1</td>\n",
       "      <td>no</td>\n",
       "      <td>0</td>\n",
       "    </tr>\n",
       "    <tr>\n",
       "      <th>392</th>\n",
       "      <td>MS</td>\n",
       "      <td>1</td>\n",
       "      <td>M</td>\n",
       "      <td>1</td>\n",
       "      <td>R</td>\n",
       "      <td>1</td>\n",
       "      <td>GT3</td>\n",
       "      <td>1</td>\n",
       "      <td>T</td>\n",
       "      <td>0</td>\n",
       "      <td>...</td>\n",
       "      <td>no</td>\n",
       "      <td>0</td>\n",
       "      <td>no</td>\n",
       "      <td>0</td>\n",
       "      <td>yes</td>\n",
       "      <td>1</td>\n",
       "      <td>no</td>\n",
       "      <td>0</td>\n",
       "      <td>no</td>\n",
       "      <td>0</td>\n",
       "    </tr>\n",
       "    <tr>\n",
       "      <th>393</th>\n",
       "      <td>MS</td>\n",
       "      <td>1</td>\n",
       "      <td>M</td>\n",
       "      <td>1</td>\n",
       "      <td>R</td>\n",
       "      <td>1</td>\n",
       "      <td>LE3</td>\n",
       "      <td>0</td>\n",
       "      <td>T</td>\n",
       "      <td>0</td>\n",
       "      <td>...</td>\n",
       "      <td>no</td>\n",
       "      <td>0</td>\n",
       "      <td>no</td>\n",
       "      <td>0</td>\n",
       "      <td>yes</td>\n",
       "      <td>1</td>\n",
       "      <td>yes</td>\n",
       "      <td>1</td>\n",
       "      <td>no</td>\n",
       "      <td>0</td>\n",
       "    </tr>\n",
       "    <tr>\n",
       "      <th>394</th>\n",
       "      <td>MS</td>\n",
       "      <td>1</td>\n",
       "      <td>M</td>\n",
       "      <td>1</td>\n",
       "      <td>U</td>\n",
       "      <td>0</td>\n",
       "      <td>LE3</td>\n",
       "      <td>0</td>\n",
       "      <td>T</td>\n",
       "      <td>0</td>\n",
       "      <td>...</td>\n",
       "      <td>no</td>\n",
       "      <td>0</td>\n",
       "      <td>yes</td>\n",
       "      <td>1</td>\n",
       "      <td>yes</td>\n",
       "      <td>1</td>\n",
       "      <td>yes</td>\n",
       "      <td>1</td>\n",
       "      <td>no</td>\n",
       "      <td>0</td>\n",
       "    </tr>\n",
       "  </tbody>\n",
       "</table>\n",
       "<p>10 rows × 26 columns</p>\n",
       "</div>"
      ],
      "text/plain": [
       "    school  binary_school sex  binary_sex address  binary_address famsize  \\\n",
       "385     MS              1   F           0       R               1     GT3   \n",
       "386     MS              1   F           0       R               1     GT3   \n",
       "387     MS              1   F           0       R               1     GT3   \n",
       "388     MS              1   F           0       U               0     LE3   \n",
       "389     MS              1   F           0       U               0     GT3   \n",
       "390     MS              1   M           1       U               0     LE3   \n",
       "391     MS              1   M           1       U               0     LE3   \n",
       "392     MS              1   M           1       R               1     GT3   \n",
       "393     MS              1   M           1       R               1     LE3   \n",
       "394     MS              1   M           1       U               0     LE3   \n",
       "\n",
       "     binary_famsize Pstatus  binary_Pstatus  ... activities  \\\n",
       "385               1       T               0  ...         no   \n",
       "386               1       T               0  ...        yes   \n",
       "387               1       T               0  ...        yes   \n",
       "388               0       T               0  ...         no   \n",
       "389               1       T               0  ...        yes   \n",
       "390               0       A               1  ...         no   \n",
       "391               0       T               0  ...         no   \n",
       "392               1       T               0  ...         no   \n",
       "393               0       T               0  ...         no   \n",
       "394               0       T               0  ...         no   \n",
       "\n",
       "     binary_activities nursery  binary_nursery higher  binary_higher internet  \\\n",
       "385                  0     yes               1    yes              1       no   \n",
       "386                  1     yes               1    yes              1      yes   \n",
       "387                  1      no               0    yes              1      yes   \n",
       "388                  0     yes               1    yes              1      yes   \n",
       "389                  1     yes               1    yes              1       no   \n",
       "390                  0     yes               1    yes              1       no   \n",
       "391                  0      no               0    yes              1      yes   \n",
       "392                  0      no               0    yes              1       no   \n",
       "393                  0      no               0    yes              1      yes   \n",
       "394                  0     yes               1    yes              1      yes   \n",
       "\n",
       "     binary_internet romantic  binary_romantic  \n",
       "385                0       no                0  \n",
       "386                1      yes                1  \n",
       "387                1       no                0  \n",
       "388                1       no                0  \n",
       "389                0       no                0  \n",
       "390                0       no                0  \n",
       "391                1       no                0  \n",
       "392                0       no                0  \n",
       "393                1       no                0  \n",
       "394                1       no                0  \n",
       "\n",
       "[10 rows x 26 columns]"
      ]
     },
     "execution_count": 4,
     "metadata": {},
     "output_type": "execute_result"
    }
   ],
   "source": [
    "# Part 1.\n",
    "# Question 1\n",
    "# Create column for school, sex, address, famsize, Pstatus, schoolsup, famsup, paid, activities, nursery, higher, internet and romantic based on binary data\n",
    "data[\"binary_school\"] = [(lambda school: 0 if school == \"GP\" else 1 )(school) for school in data[\"school\"]]\n",
    "data[\"binary_sex\"] = [(lambda sex: 0 if sex == \"F\" else 1)(sex) for sex in data[\"sex\"]]\n",
    "data[\"binary_address\"] = [(lambda address: 0 if address == \"U\" else 1)(address) for address in data[\"address\"]]\n",
    "data[\"binary_famsize\"] = [(lambda famsize: 0 if famsize == \"LE3\" else 1 )(famsize) for famsize in data[\"famsize\"]]\n",
    "data[\"binary_Pstatus\"] = [(lambda Pstatus: 0 if Pstatus == \"T\" else 1)(Pstatus) for Pstatus in data[\"Pstatus\"]]\n",
    "data[\"binary_schoolsup\"] = [(lambda schoolsup: 0 if schoolsup == \"no\" else 1)(schoolsup) for schoolsup in data[\"schoolsup\"]]\n",
    "data[\"binary_famsup\"] = [(lambda famsup: 0 if famsup == \"no\" else 1)(famsup) for famsup in data[\"famsup\"]]\n",
    "data[\"binary_paid\"] = [(lambda paid: 0 if paid == \"no\" else 1)(paid) for paid in data[\"paid\"]]\n",
    "data[\"binary_activities\"] = [(lambda activities: 0 if activities == \"no\" else 1)(activities) for activities in data[\"activities\"]]\n",
    "data[\"binary_nursery\"] = [(lambda nursery: 0 if nursery == \"no\" else 1)(nursery) for nursery in data[\"nursery\"]]\n",
    "data[\"binary_higher\"] = [(lambda higher: 0 if higher == \"no\" else 1)(higher) for higher in data[\"higher\"]]\n",
    "data[\"binary_internet\"] = [(lambda internet: 0 if internet == \"no\" else 1)(internet) for internet in data[\"internet\"]]\n",
    "data[\"binary_romantic\"] = [(lambda romantic: 0 if romantic == \"no\" else 1)(romantic) for romantic in data[\"romantic\"]]\n",
    "data[[\"school\", \"binary_school\", \"sex\", \"binary_sex\", \"address\", \"binary_address\", \"famsize\", \"binary_famsize\",\n",
    "    \"Pstatus\", \"binary_Pstatus\", \"schoolsup\", \"binary_schoolsup\", \"famsup\", \"binary_famsup\", \"paid\", \"binary_paid\",\n",
    "     \"activities\", \"binary_activities\", \"nursery\", \"binary_nursery\", \"higher\", \"binary_higher\", \"internet\", \n",
    "     \"binary_internet\", \"romantic\", \"binary_romantic\"]].tail(10)"
   ]
  },
  {
   "cell_type": "code",
   "execution_count": 5,
   "id": "8d3caf1e-ab90-42c1-abee-fbd8d5b86094",
   "metadata": {},
   "outputs": [
    {
     "data": {
      "text/plain": [
       "['good', 'excellent', 'very bad', 'bad', 'very good']"
      ]
     },
     "execution_count": 5,
     "metadata": {},
     "output_type": "execute_result"
    }
   ],
   "source": [
    "ax = [(lambda x: x)(x) for x in data[\"health\"].unique()]\n",
    "ax"
   ]
  },
  {
   "cell_type": "code",
   "execution_count": 6,
   "id": "e44b298a-7291-4a8b-8ef7-3baa5b87ad7b",
   "metadata": {},
   "outputs": [
    {
     "data": {
      "text/html": [
       "<div>\n",
       "<style scoped>\n",
       "    .dataframe tbody tr th:only-of-type {\n",
       "        vertical-align: middle;\n",
       "    }\n",
       "\n",
       "    .dataframe tbody tr th {\n",
       "        vertical-align: top;\n",
       "    }\n",
       "\n",
       "    .dataframe thead th {\n",
       "        text-align: right;\n",
       "    }\n",
       "</style>\n",
       "<table border=\"1\" class=\"dataframe\">\n",
       "  <thead>\n",
       "    <tr style=\"text-align: right;\">\n",
       "      <th></th>\n",
       "      <th>ordinal_Medu</th>\n",
       "      <th>ordinal_Fedu</th>\n",
       "      <th>ordinal_Mjob</th>\n",
       "      <th>ordinal_Fjob</th>\n",
       "      <th>ordinal_reason</th>\n",
       "      <th>ordinal_guardian</th>\n",
       "      <th>ordinal_traveltime</th>\n",
       "      <th>ordinal_studytime</th>\n",
       "      <th>ordinal_famrel</th>\n",
       "      <th>ordinal_freetime</th>\n",
       "      <th>ordinal_goout</th>\n",
       "      <th>ordinal_Dalc</th>\n",
       "      <th>ordinal_Walc</th>\n",
       "      <th>ordinal_health</th>\n",
       "    </tr>\n",
       "  </thead>\n",
       "  <tbody>\n",
       "    <tr>\n",
       "      <th>385</th>\n",
       "      <td>2</td>\n",
       "      <td>2</td>\n",
       "      <td>0</td>\n",
       "      <td>4</td>\n",
       "      <td>3</td>\n",
       "      <td>0</td>\n",
       "      <td>1</td>\n",
       "      <td>2</td>\n",
       "      <td>4</td>\n",
       "      <td>2</td>\n",
       "      <td>2</td>\n",
       "      <td>0</td>\n",
       "      <td>2</td>\n",
       "      <td>3</td>\n",
       "    </tr>\n",
       "    <tr>\n",
       "      <th>386</th>\n",
       "      <td>4</td>\n",
       "      <td>4</td>\n",
       "      <td>3</td>\n",
       "      <td>0</td>\n",
       "      <td>1</td>\n",
       "      <td>0</td>\n",
       "      <td>2</td>\n",
       "      <td>0</td>\n",
       "      <td>3</td>\n",
       "      <td>3</td>\n",
       "      <td>2</td>\n",
       "      <td>1</td>\n",
       "      <td>1</td>\n",
       "      <td>4</td>\n",
       "    </tr>\n",
       "    <tr>\n",
       "      <th>387</th>\n",
       "      <td>2</td>\n",
       "      <td>3</td>\n",
       "      <td>2</td>\n",
       "      <td>4</td>\n",
       "      <td>2</td>\n",
       "      <td>0</td>\n",
       "      <td>0</td>\n",
       "      <td>2</td>\n",
       "      <td>4</td>\n",
       "      <td>3</td>\n",
       "      <td>1</td>\n",
       "      <td>0</td>\n",
       "      <td>1</td>\n",
       "      <td>4</td>\n",
       "    </tr>\n",
       "    <tr>\n",
       "      <th>388</th>\n",
       "      <td>3</td>\n",
       "      <td>1</td>\n",
       "      <td>3</td>\n",
       "      <td>2</td>\n",
       "      <td>2</td>\n",
       "      <td>0</td>\n",
       "      <td>0</td>\n",
       "      <td>1</td>\n",
       "      <td>3</td>\n",
       "      <td>2</td>\n",
       "      <td>3</td>\n",
       "      <td>0</td>\n",
       "      <td>0</td>\n",
       "      <td>0</td>\n",
       "    </tr>\n",
       "    <tr>\n",
       "      <th>389</th>\n",
       "      <td>1</td>\n",
       "      <td>1</td>\n",
       "      <td>4</td>\n",
       "      <td>4</td>\n",
       "      <td>2</td>\n",
       "      <td>0</td>\n",
       "      <td>1</td>\n",
       "      <td>1</td>\n",
       "      <td>0</td>\n",
       "      <td>0</td>\n",
       "      <td>0</td>\n",
       "      <td>0</td>\n",
       "      <td>0</td>\n",
       "      <td>4</td>\n",
       "    </tr>\n",
       "    <tr>\n",
       "      <th>390</th>\n",
       "      <td>2</td>\n",
       "      <td>2</td>\n",
       "      <td>2</td>\n",
       "      <td>2</td>\n",
       "      <td>2</td>\n",
       "      <td>2</td>\n",
       "      <td>0</td>\n",
       "      <td>1</td>\n",
       "      <td>4</td>\n",
       "      <td>4</td>\n",
       "      <td>3</td>\n",
       "      <td>3</td>\n",
       "      <td>4</td>\n",
       "      <td>3</td>\n",
       "    </tr>\n",
       "    <tr>\n",
       "      <th>391</th>\n",
       "      <td>3</td>\n",
       "      <td>1</td>\n",
       "      <td>2</td>\n",
       "      <td>2</td>\n",
       "      <td>2</td>\n",
       "      <td>0</td>\n",
       "      <td>1</td>\n",
       "      <td>0</td>\n",
       "      <td>1</td>\n",
       "      <td>3</td>\n",
       "      <td>4</td>\n",
       "      <td>2</td>\n",
       "      <td>3</td>\n",
       "      <td>1</td>\n",
       "    </tr>\n",
       "    <tr>\n",
       "      <th>392</th>\n",
       "      <td>1</td>\n",
       "      <td>1</td>\n",
       "      <td>4</td>\n",
       "      <td>4</td>\n",
       "      <td>2</td>\n",
       "      <td>2</td>\n",
       "      <td>0</td>\n",
       "      <td>0</td>\n",
       "      <td>4</td>\n",
       "      <td>4</td>\n",
       "      <td>2</td>\n",
       "      <td>2</td>\n",
       "      <td>2</td>\n",
       "      <td>2</td>\n",
       "    </tr>\n",
       "    <tr>\n",
       "      <th>393</th>\n",
       "      <td>3</td>\n",
       "      <td>2</td>\n",
       "      <td>2</td>\n",
       "      <td>4</td>\n",
       "      <td>2</td>\n",
       "      <td>0</td>\n",
       "      <td>2</td>\n",
       "      <td>0</td>\n",
       "      <td>3</td>\n",
       "      <td>3</td>\n",
       "      <td>0</td>\n",
       "      <td>2</td>\n",
       "      <td>3</td>\n",
       "      <td>4</td>\n",
       "    </tr>\n",
       "    <tr>\n",
       "      <th>394</th>\n",
       "      <td>1</td>\n",
       "      <td>1</td>\n",
       "      <td>4</td>\n",
       "      <td>0</td>\n",
       "      <td>2</td>\n",
       "      <td>1</td>\n",
       "      <td>0</td>\n",
       "      <td>0</td>\n",
       "      <td>2</td>\n",
       "      <td>1</td>\n",
       "      <td>2</td>\n",
       "      <td>2</td>\n",
       "      <td>2</td>\n",
       "      <td>4</td>\n",
       "    </tr>\n",
       "  </tbody>\n",
       "</table>\n",
       "</div>"
      ],
      "text/plain": [
       "     ordinal_Medu  ordinal_Fedu  ordinal_Mjob  ordinal_Fjob  ordinal_reason  \\\n",
       "385             2             2             0             4               3   \n",
       "386             4             4             3             0               1   \n",
       "387             2             3             2             4               2   \n",
       "388             3             1             3             2               2   \n",
       "389             1             1             4             4               2   \n",
       "390             2             2             2             2               2   \n",
       "391             3             1             2             2               2   \n",
       "392             1             1             4             4               2   \n",
       "393             3             2             2             4               2   \n",
       "394             1             1             4             0               2   \n",
       "\n",
       "     ordinal_guardian  ordinal_traveltime  ordinal_studytime  ordinal_famrel  \\\n",
       "385                 0                   1                  2               4   \n",
       "386                 0                   2                  0               3   \n",
       "387                 0                   0                  2               4   \n",
       "388                 0                   0                  1               3   \n",
       "389                 0                   1                  1               0   \n",
       "390                 2                   0                  1               4   \n",
       "391                 0                   1                  0               1   \n",
       "392                 2                   0                  0               4   \n",
       "393                 0                   2                  0               3   \n",
       "394                 1                   0                  0               2   \n",
       "\n",
       "     ordinal_freetime  ordinal_goout  ordinal_Dalc  ordinal_Walc  \\\n",
       "385                 2              2             0             2   \n",
       "386                 3              2             1             1   \n",
       "387                 3              1             0             1   \n",
       "388                 2              3             0             0   \n",
       "389                 0              0             0             0   \n",
       "390                 4              3             3             4   \n",
       "391                 3              4             2             3   \n",
       "392                 4              2             2             2   \n",
       "393                 3              0             2             3   \n",
       "394                 1              2             2             2   \n",
       "\n",
       "     ordinal_health  \n",
       "385               3  \n",
       "386               4  \n",
       "387               4  \n",
       "388               0  \n",
       "389               4  \n",
       "390               3  \n",
       "391               1  \n",
       "392               2  \n",
       "393               4  \n",
       "394               4  "
      ]
     },
     "execution_count": 6,
     "metadata": {},
     "output_type": "execute_result"
    }
   ],
   "source": [
    "# Medu, Fedu, Mjob, Fjob, reason, guardian, traveltime, studytime, famrel, freetime, gout, Dalc, Walc \n",
    "# and health into ordinal numbers based on number of cases in the data set (create new columns without \n",
    "# overwriting the existing ones).\n",
    "\n",
    "\n",
    "def transform_str_ordinal(value):\n",
    "    if value.upper() == \"VERY LOW\" or value.upper() == \"VERY BAD\" or value.upper() == \"NONE\" or value.upper() == \"AT_HOME\":\n",
    "        return 0\n",
    "    elif value.upper() == \"LOW\" or value.upper() == \"BAD\" or value.lower() == \"primary education (4th grade)\" or value.upper() == \"HEALTH\":\n",
    "        return 1\n",
    "    elif value.upper() == \"MEDIUM\" or value.upper() == \"GOOD\" or value.lower() == \"5th to 9th grade\" or value.upper() == \"SERVICES\":\n",
    "        return 2\n",
    "    elif value.upper() == \"HIGH\" or value.upper() == \"VERY GOOD\" or value.lower() == \"secondary education\" or value.upper() == \"TEACHER\":\n",
    "        return 3\n",
    "    else:\n",
    "        return 4\n",
    "\n",
    "def transform_time_ordinal(value):\n",
    "    if value.lower() == \"<15 min.\" or value.lower() == \"<2 hours\":\n",
    "        return 0\n",
    "    elif value.lower() == \"15 to 30 min.\" or value.lower() == \"2 to 5 hours\":\n",
    "        return 1\n",
    "    elif value.lower() == \"30 min. to 1 hour\" or value.lower() == \"5 to 10 hours\":\n",
    "        return 2\n",
    "    else:\n",
    "        return 3\n",
    "    \n",
    "data[\"ordinal_Medu\"] = [(lambda medu: transform_str_ordinal(medu))(medu) for medu in data[\"Medu\"]]\n",
    "data[\"ordinal_Fedu\"] = [(lambda medu: transform_str_ordinal(fedu))(fedu) for fedu in data[\"Fedu\"]]\n",
    "data[\"ordinal_Mjob\"] = [(lambda mjob: transform_str_ordinal(mjob))(mjob) for mjob in data[\"Mjob\"]]\n",
    "data[\"ordinal_Fjob\"] = [(lambda fjob: transform_str_ordinal(fjob))(fjob) for fjob in data[\"Fjob\"]]\n",
    "data[\"ordinal_reason\"] = [(lambda reason: 0 if reason.upper() == \"HOME\" else \n",
    "                           (1 if reason.upper() == \"REPUTATION\" else \n",
    "                            (2 if reason.upper() == \"COURSE\"  else 3)))(reason) for reason in data[\"reason\"]]\n",
    "data[\"ordinal_guardian\"] = [(lambda guardian: 0 if guardian.upper() == \"MOTHER\" else \n",
    "                           (1 if guardian.upper() == \"FATHER\" else 2))(guardian) for guardian in data[\"guardian\"]]\n",
    "data[\"ordinal_traveltime\"] = [(lambda traveltime: transform_time_ordinal(traveltime))(traveltime) for traveltime in data[\"traveltime\"]]\n",
    "data[\"ordinal_studytime\"] = [(lambda studytime: transform_time_ordinal(studytime))(studytime) for studytime in data[\"studytime\"]]\n",
    "data[\"ordinal_famrel\"] = [(lambda famrel: transform_str_ordinal(famrel))(famrel) for famrel in data[\"famrel\"]]\n",
    "data[\"ordinal_freetime\"] = [(lambda freetime: transform_str_ordinal(freetime))(freetime) for freetime in data[\"freetime\"]]\n",
    "data[\"ordinal_goout\"] = [(lambda goout: transform_str_ordinal(goout))(goout) for goout in data[\"goout\"]]\n",
    "data[\"ordinal_Dalc\"] = [(lambda dalc: transform_str_ordinal(dalc))(dalc) for dalc in data[\"Dalc\"]]\n",
    "data[\"ordinal_Walc\"] = [(lambda walc: transform_str_ordinal(walc))(walc) for walc in data[\"Walc\"]]\n",
    "data[\"ordinal_health\"] = [(lambda health: transform_str_ordinal(health))(health) for health in data[\"health\"]]\n",
    "\n",
    "data[[\"ordinal_Medu\",\"ordinal_Fedu\", \"ordinal_Mjob\", \"ordinal_Fjob\", \n",
    "      \"ordinal_reason\", \"ordinal_guardian\", \"ordinal_traveltime\", \n",
    "     \"ordinal_studytime\", \"ordinal_famrel\", \"ordinal_freetime\",\n",
    "     \"ordinal_goout\", \"ordinal_Dalc\", \"ordinal_Walc\", \"ordinal_health\"]].tail(10)"
   ]
  },
  {
   "cell_type": "code",
   "execution_count": 7,
   "id": "afca5c7b-5f08-44a6-b598-073c5426fb96",
   "metadata": {},
   "outputs": [
    {
     "data": {
      "text/html": [
       "<div>\n",
       "<style scoped>\n",
       "    .dataframe tbody tr th:only-of-type {\n",
       "        vertical-align: middle;\n",
       "    }\n",
       "\n",
       "    .dataframe tbody tr th {\n",
       "        vertical-align: top;\n",
       "    }\n",
       "\n",
       "    .dataframe thead th {\n",
       "        text-align: right;\n",
       "    }\n",
       "</style>\n",
       "<table border=\"1\" class=\"dataframe\">\n",
       "  <thead>\n",
       "    <tr style=\"text-align: right;\">\n",
       "      <th></th>\n",
       "      <th>age</th>\n",
       "      <th>age_category</th>\n",
       "    </tr>\n",
       "  </thead>\n",
       "  <tbody>\n",
       "    <tr>\n",
       "      <th>385</th>\n",
       "      <td>18</td>\n",
       "      <td>1</td>\n",
       "    </tr>\n",
       "    <tr>\n",
       "      <th>386</th>\n",
       "      <td>18</td>\n",
       "      <td>1</td>\n",
       "    </tr>\n",
       "    <tr>\n",
       "      <th>387</th>\n",
       "      <td>19</td>\n",
       "      <td>1</td>\n",
       "    </tr>\n",
       "    <tr>\n",
       "      <th>388</th>\n",
       "      <td>18</td>\n",
       "      <td>1</td>\n",
       "    </tr>\n",
       "    <tr>\n",
       "      <th>389</th>\n",
       "      <td>18</td>\n",
       "      <td>1</td>\n",
       "    </tr>\n",
       "    <tr>\n",
       "      <th>390</th>\n",
       "      <td>20</td>\n",
       "      <td>1</td>\n",
       "    </tr>\n",
       "    <tr>\n",
       "      <th>391</th>\n",
       "      <td>17</td>\n",
       "      <td>0</td>\n",
       "    </tr>\n",
       "    <tr>\n",
       "      <th>392</th>\n",
       "      <td>21</td>\n",
       "      <td>2</td>\n",
       "    </tr>\n",
       "    <tr>\n",
       "      <th>393</th>\n",
       "      <td>18</td>\n",
       "      <td>1</td>\n",
       "    </tr>\n",
       "    <tr>\n",
       "      <th>394</th>\n",
       "      <td>19</td>\n",
       "      <td>1</td>\n",
       "    </tr>\n",
       "  </tbody>\n",
       "</table>\n",
       "</div>"
      ],
      "text/plain": [
       "     age  age_category\n",
       "385   18             1\n",
       "386   18             1\n",
       "387   19             1\n",
       "388   18             1\n",
       "389   18             1\n",
       "390   20             1\n",
       "391   17             0\n",
       "392   21             2\n",
       "393   18             1\n",
       "394   19             1"
      ]
     },
     "execution_count": 7,
     "metadata": {},
     "output_type": "execute_result"
    }
   ],
   "source": [
    "# create a new column named age_category whose values should be based on the values in the age column, divide the values into 3\n",
    "# ordinal numbers; 0 – 15 to 17, 1 – 18 to 20, 2 – 21 and over\n",
    "data[\"age_category\"] = [(lambda age_category: 0 if age_category >= 15 and age_category <= 17 else (\n",
    "    1 if (age_category >= 18 and age_category <= 20) else 2))(age_category) for age_category in data[\"age\"]]\n",
    "data[[\"age\", \"age_category\"]].tail(10)"
   ]
  },
  {
   "cell_type": "code",
   "execution_count": 8,
   "id": "d1edbeb0-5053-4c54-a4d8-511674fc63dc",
   "metadata": {},
   "outputs": [
    {
     "data": {
      "text/html": [
       "<div>\n",
       "<style scoped>\n",
       "    .dataframe tbody tr th:only-of-type {\n",
       "        vertical-align: middle;\n",
       "    }\n",
       "\n",
       "    .dataframe tbody tr th {\n",
       "        vertical-align: top;\n",
       "    }\n",
       "\n",
       "    .dataframe thead th {\n",
       "        text-align: right;\n",
       "    }\n",
       "</style>\n",
       "<table border=\"1\" class=\"dataframe\">\n",
       "  <thead>\n",
       "    <tr style=\"text-align: right;\">\n",
       "      <th></th>\n",
       "      <th>G3</th>\n",
       "      <th>passed</th>\n",
       "    </tr>\n",
       "  </thead>\n",
       "  <tbody>\n",
       "    <tr>\n",
       "      <th>385</th>\n",
       "      <td>10</td>\n",
       "      <td>yes</td>\n",
       "    </tr>\n",
       "    <tr>\n",
       "      <th>386</th>\n",
       "      <td>6</td>\n",
       "      <td>no</td>\n",
       "    </tr>\n",
       "    <tr>\n",
       "      <th>387</th>\n",
       "      <td>0</td>\n",
       "      <td>no</td>\n",
       "    </tr>\n",
       "    <tr>\n",
       "      <th>388</th>\n",
       "      <td>8</td>\n",
       "      <td>yes</td>\n",
       "    </tr>\n",
       "    <tr>\n",
       "      <th>389</th>\n",
       "      <td>0</td>\n",
       "      <td>no</td>\n",
       "    </tr>\n",
       "    <tr>\n",
       "      <th>390</th>\n",
       "      <td>9</td>\n",
       "      <td>yes</td>\n",
       "    </tr>\n",
       "    <tr>\n",
       "      <th>391</th>\n",
       "      <td>16</td>\n",
       "      <td>yes</td>\n",
       "    </tr>\n",
       "    <tr>\n",
       "      <th>392</th>\n",
       "      <td>7</td>\n",
       "      <td>no</td>\n",
       "    </tr>\n",
       "    <tr>\n",
       "      <th>393</th>\n",
       "      <td>10</td>\n",
       "      <td>yes</td>\n",
       "    </tr>\n",
       "    <tr>\n",
       "      <th>394</th>\n",
       "      <td>9</td>\n",
       "      <td>yes</td>\n",
       "    </tr>\n",
       "  </tbody>\n",
       "</table>\n",
       "</div>"
      ],
      "text/plain": [
       "     G3 passed\n",
       "385  10    yes\n",
       "386   6     no\n",
       "387   0     no\n",
       "388   8    yes\n",
       "389   0     no\n",
       "390   9    yes\n",
       "391  16    yes\n",
       "392   7     no\n",
       "393  10    yes\n",
       "394   9    yes"
      ]
     },
     "execution_count": 8,
     "metadata": {},
     "output_type": "execute_result"
    }
   ],
   "source": [
    "# create a new column named passed (yes or no) whose values\n",
    "# should be based on the values present in the G3 column (>=8 –\n",
    "# yes, <8 – no)\n",
    "data[\"passed\"] = [(lambda G3: \"yes\" if G3 >= 8 else \"no\")(G3) for G3 in data[\"G3\"]]\n",
    "data[[\"G3\", \"passed\"]].tail(10)"
   ]
  },
  {
   "cell_type": "code",
   "execution_count": 9,
   "id": "b6dd7867-1db6-4509-b9d5-bb8de727ef0c",
   "metadata": {},
   "outputs": [
    {
     "data": {
      "text/plain": [
       "{'age': {'sum': 6595,\n",
       "  'mean': 16.696202531645568,\n",
       "  'median': 17.0,\n",
       "  'deviation': 1.2760427246056283},\n",
       " 'absences': {'sum': 2255,\n",
       "  'mean': 5.708860759493671,\n",
       "  'median': 4.0,\n",
       "  'deviation': 8.00309568710818},\n",
       " 'G1': {'sum': 4309,\n",
       "  'mean': 10.90886075949367,\n",
       "  'median': 11.0,\n",
       "  'deviation': 3.319194671507669},\n",
       " 'G2': {'sum': 4232,\n",
       "  'mean': 10.713924050632912,\n",
       "  'median': 11.0,\n",
       "  'deviation': 3.7615046595560298},\n",
       " 'G3': {'sum': 4114,\n",
       "  'mean': 10.415189873417722,\n",
       "  'median': 11.0,\n",
       "  'deviation': 4.5814426109978434}}"
      ]
     },
     "execution_count": 9,
     "metadata": {},
     "output_type": "execute_result"
    }
   ],
   "source": [
    "# Write code to show the summary statistics (sum, mean, median,\n",
    "# standard deviation, max and min) of the variables age, absences, G1,\n",
    "# G2 and G3.\n",
    "summary_variable = [\"age\", \"absences\", \"G1\", \"G2\", \"G3\"]\n",
    "summary_statics = {var: { \n",
    "                          \"sum\": data[var].sum(), \n",
    "                          \"mean\": data[var].mean(), \n",
    "                          \"median\": data[var].median(), \n",
    "                          \"deviation\": data[var].std()\n",
    "                         } for var in summary_variable }\n",
    "summary_statics"
   ]
  },
  {
   "cell_type": "code",
   "execution_count": 10,
   "id": "6e831b7a-10d3-430c-80e8-e5796b22cc93",
   "metadata": {},
   "outputs": [
    {
     "data": {
      "text/plain": [
       "<AxesSubplot:>"
      ]
     },
     "execution_count": 10,
     "metadata": {},
     "output_type": "execute_result"
    },
    {
     "data": {
      "image/png": "[encoded data removed]",
      "text/plain": [
       "<Figure size 1080x720 with 2 Axes>"
      ]
     },
     "metadata": {
      "needs_background": "light"
     },
     "output_type": "display_data"
    }
   ],
   "source": [
    "# Write code to calculate and show the correlation between the variables\n",
    "# absences, failures, G1, G2 and G3. Present the result using a\n",
    "# heatmap and interpret the results.\n",
    "failure_corr = data[['absences','failures', 'G1', 'G2', 'G3']].corr()\n",
    "plt.figure(figsize=(15,10))\n",
    "sns.heatmap(failure_corr, annot=True, cmap=\"Reds\")"
   ]
  },
  {
   "cell_type": "code",
   "execution_count": 11,
   "id": "90ad9e9e-526f-4dcd-8a99-15b5219fc6eb",
   "metadata": {},
   "outputs": [
    {
     "data": {
      "text/plain": [
       "<AxesSubplot:xlabel='age', ylabel='Count'>"
      ]
     },
     "execution_count": 11,
     "metadata": {},
     "output_type": "execute_result"
    },
    {
     "data": {
      "image/png": "[encoded data removed]",
      "text/plain": [
       "<Figure size 1080x504 with 1 Axes>"
      ]
     },
     "metadata": {
      "needs_background": "light"
     },
     "output_type": "display_data"
    }
   ],
   "source": [
    "# Write code to show histogram plots and boxplots to visualize the\n",
    "# distribution of the variables age, absences and G3. Interpret the\n",
    "# results and comment about the distribution of each variable.\n",
    "plt.figure(figsize=(15,7))\n",
    "sns.histplot(data[\"age\"], kde=False)"
   ]
  },
  {
   "cell_type": "code",
   "execution_count": 12,
   "id": "af59215f-c7a8-488b-8b24-d892e22a5ab7",
   "metadata": {},
   "outputs": [
    {
     "data": {
      "text/plain": [
       "<AxesSubplot:xlabel='age'>"
      ]
     },
     "execution_count": 12,
     "metadata": {},
     "output_type": "execute_result"
    },
    {
     "data": {
      "image/png": "[encoded data removed]",
      "text/plain": [
       "<Figure size 1080x504 with 1 Axes>"
      ]
     },
     "metadata": {
      "needs_background": "light"
     },
     "output_type": "display_data"
    }
   ],
   "source": [
    "# Boxplot of age\n",
    "plt.figure(figsize=(15,7))\n",
    "sns.set_theme(style=\"whitegrid\")\n",
    "sns.boxplot(x=data[\"age\"])"
   ]
  },
  {
   "cell_type": "code",
   "execution_count": 13,
   "id": "a51c98b9-691c-4985-b33b-e1ef1783825f",
   "metadata": {},
   "outputs": [
    {
     "data": {
      "text/plain": [
       "<AxesSubplot:xlabel='absences', ylabel='Count'>"
      ]
     },
     "execution_count": 13,
     "metadata": {},
     "output_type": "execute_result"
    },
    {
     "data": {
      "image/png": "[encoded data removed]",
      "text/plain": [
       "<Figure size 1080x504 with 1 Axes>"
      ]
     },
     "metadata": {},
     "output_type": "display_data"
    }
   ],
   "source": [
    "# Histogram for Absences\n",
    "plt.figure(figsize=(15,7))\n",
    "sns.set_theme(style=\"whitegrid\")\n",
    "sns.histplot(data[\"absences\"], kde=False)"
   ]
  },
  {
   "cell_type": "code",
   "execution_count": 14,
   "id": "07583480-1ced-480e-9d39-8a5cadeac9b5",
   "metadata": {},
   "outputs": [
    {
     "data": {
      "text/plain": [
       "<AxesSubplot:xlabel='absences'>"
      ]
     },
     "execution_count": 14,
     "metadata": {},
     "output_type": "execute_result"
    },
    {
     "data": {
      "image/png": "[encoded data removed]",
      "text/plain": [
       "<Figure size 1080x504 with 1 Axes>"
      ]
     },
     "metadata": {},
     "output_type": "display_data"
    }
   ],
   "source": [
    "# Boxplot for Absences\n",
    "plt.figure(figsize=(15,7))\n",
    "sns.boxplot(x=data[\"absences\"])"
   ]
  },
  {
   "cell_type": "code",
   "execution_count": 15,
   "id": "903e06a0-f051-4219-87cc-0b296a45d1ff",
   "metadata": {},
   "outputs": [
    {
     "data": {
      "text/plain": [
       "<AxesSubplot:xlabel='G3', ylabel='Count'>"
      ]
     },
     "execution_count": 15,
     "metadata": {},
     "output_type": "execute_result"
    },
    {
     "data": {
      "image/png": "[encoded data removed]",
      "text/plain": [
       "<Figure size 1080x504 with 1 Axes>"
      ]
     },
     "metadata": {},
     "output_type": "display_data"
    }
   ],
   "source": [
    "# Histogram for G3\n",
    "plt.figure(figsize=(15,7))\n",
    "sns.histplot(data[\"G3\"], kde=False)"
   ]
  },
  {
   "cell_type": "code",
   "execution_count": 16,
   "id": "2f01e238-b7b2-4284-a746-7e3b384ac895",
   "metadata": {},
   "outputs": [
    {
     "data": {
      "text/plain": [
       "<AxesSubplot:xlabel='G3'>"
      ]
     },
     "execution_count": 16,
     "metadata": {},
     "output_type": "execute_result"
    },
    {
     "data": {
      "image/png": "[encoded data removed]",
      "text/plain": [
       "<Figure size 1080x504 with 1 Axes>"
      ]
     },
     "metadata": {},
     "output_type": "display_data"
    }
   ],
   "source": [
    "# Boxplot for G3\n",
    "plt.figure(figsize=(15,7))\n",
    "sns.boxplot(x=data[\"G3\"])"
   ]
  },
  {
   "cell_type": "code",
   "execution_count": 17,
   "id": "cf9c6a21-060f-4305-a820-aabbc40dbf10",
   "metadata": {},
   "outputs": [
    {
     "data": {
      "text/plain": [
       "Text(0.5, 1.0, 'Student group by school who have passed the exam')"
      ]
     },
     "execution_count": 17,
     "metadata": {},
     "output_type": "execute_result"
    },
    {
     "data": {
      "image/png": "[encoded data removed]",
      "text/plain": [
       "<Figure size 936x504 with 1 Axes>"
      ]
     },
     "metadata": {},
     "output_type": "display_data"
    }
   ],
   "source": [
    "# Write code to show a bar graph of the total number of students who\n",
    "# passed the final term grouped according to the school that they belong\n",
    "# to. Use proper labels in the graph and interpret the results.\n",
    "plt.figure(figsize=(13,7))\n",
    "graph = sns.countplot(x=\"school\", data=data[data[\"passed\"]==\"yes\"])\n",
    "graph.set_title(\"Student group by school who have passed the exam\")"
   ]
  },
  {
   "cell_type": "code",
   "execution_count": 18,
   "id": "8ba49013-a057-4e86-8715-3d238a168083",
   "metadata": {},
   "outputs": [
    {
     "data": {
      "text/plain": [
       "Text(0.5, 1.0, 'Student group by studytime who have failed the exam')"
      ]
     },
     "execution_count": 18,
     "metadata": {},
     "output_type": "execute_result"
    },
    {
     "data": {
      "image/png": "[encoded data removed]",
      "text/plain": [
       "<Figure size 936x504 with 1 Axes>"
      ]
     },
     "metadata": {},
     "output_type": "display_data"
    }
   ],
   "source": [
    "# Write code to show a bar graph of the total number of students who\n",
    "# failed the final term grouped according to their weekly study time. Use\n",
    "# proper labels in the graph and interpret the results.\n",
    "plt.figure(figsize=(13,7))\n",
    "graph = sns.countplot(x=\"studytime\", data=data[data[\"passed\"]==\"no\"])\n",
    "graph.set_title(\"Student group by studytime who have failed the exam\")"
   ]
  },
  {
   "cell_type": "code",
   "execution_count": 24,
   "id": "8c7bee33-82cd-4410-86a8-d1da5198bd82",
   "metadata": {},
   "outputs": [
    {
     "data": {
      "image/png": "[encoded data removed]",
      "text/plain": [
       "<Figure size 432x288 with 1 Axes>"
      ]
     },
     "metadata": {},
     "output_type": "display_data"
    }
   ],
   "source": [
    "# data[\"parents\"] = data[\"guardian\"].isin([\"father\", \"mother\"])\n",
    "ct = pd.crosstab(data[\"famsize\"], data[\"famsup\"])\n",
    "ax = ct.plot(kind='bar', stacked=False, rot=0)\n",
    "sns.move_legend(ax, bbox_to_anchor=(1, 1.02), loc='upper left')"
   ]
  },
  {
   "cell_type": "code",
   "execution_count": 23,
   "id": "575fa2b5-2e5b-47ac-ac24-0a1d48f2663a",
   "metadata": {},
   "outputs": [
    {
     "data": {
      "image/png": "[encoded data removed]",
      "text/plain": [
       "<Figure size 432x288 with 1 Axes>"
      ]
     },
     "metadata": {},
     "output_type": "display_data"
    }
   ],
   "source": [
    "# Study time of the student and it's relation to the gender.\n",
    "ct = pd.crosstab(data[\"sex\"], data[\"studytime\"])\n",
    "ax = ct.plot(kind='bar', stacked=False, rot=0)\n",
    "sns.move_legend(ax, bbox_to_anchor=(1,1.02), loc='upper left')"
   ]
  },
  {
   "cell_type": "code",
   "execution_count": 47,
   "id": "de705ad6-ff2f-4712-bc48-67844ac564de",
   "metadata": {},
   "outputs": [
    {
     "data": {
      "text/plain": [
       "<Figure size 936x504 with 0 Axes>"
      ]
     },
     "metadata": {},
     "output_type": "display_data"
    },
    {
     "data": {
      "image/png": "[encoded data removed]",
      "text/plain": [
       "<Figure size 1080x595.44 with 1 Axes>"
      ]
     },
     "metadata": {},
     "output_type": "display_data"
    }
   ],
   "source": [
    "# Mother education effect on the student\n",
    "dims = (15, 8.27)\n",
    "ct = pd.crosstab(data[\"Medu\"], data[\"famsup\"])\n",
    "plt.figure(figsize=(13,7))\n",
    "ax = ct.plot(kind='bar', stacked=False, rot=0, figsize=dims)"
   ]
  },
  {
   "cell_type": "code",
   "execution_count": 50,
   "id": "a945c6c5-07be-48fc-825c-fef322e7b56a",
   "metadata": {},
   "outputs": [
    {
     "data": {
      "image/png": "[encoded data removed]",
      "text/plain": [
       "<Figure size 1080x595.44 with 1 Axes>"
      ]
     },
     "metadata": {},
     "output_type": "display_data"
    }
   ],
   "source": [
    "# Father education effect on the student\n",
    "dims = (15, 8.27)\n",
    "ct = pd.crosstab(data[\"Fedu\"], data[\"famsup\"])\n",
    "ax = ct.plot(kind='bar', stacked=False, rot=0, figsize=dims)"
   ]
  },
  {
   "cell_type": "code",
   "execution_count": 54,
   "id": "62513fb4-2189-4ba2-bc7d-dc7cb18e6019",
   "metadata": {},
   "outputs": [
    {
     "data": {
      "image/png": "[encoded data removed]",
      "text/plain": [
       "<Figure size 432x288 with 1 Axes>"
      ]
     },
     "metadata": {},
     "output_type": "display_data"
    }
   ],
   "source": [
    "# Impact of internet to the student study and it's relation to the\n",
    "# Area student living\n",
    "ct = pd.crosstab(data[\"internet\"], data[\"address\"])\n",
    "ax = ct.plot(kind='bar', stacked=True, rot=0)\n",
    "sns.move_legend(ax, bbox_to_anchor=(1,1.02), loc='upper left')"
   ]
  },
  {
   "cell_type": "code",
   "execution_count": 55,
   "id": "91ed75e1-58d3-4998-8340-fd6f6d9848c5",
   "metadata": {},
   "outputs": [
    {
     "data": {
      "image/png": "[encoded data removed]",
      "text/plain": [
       "<Figure size 432x288 with 1 Axes>"
      ]
     },
     "metadata": {},
     "output_type": "display_data"
    }
   ],
   "source": [
    "# Impact of internet to the student study and it's relation to the\n",
    "# Area student living\n",
    "ct = pd.crosstab(data[\"internet\"], data[\"failures\"])\n",
    "ax = ct.plot(kind='bar', stacked=True, rot=0)\n",
    "sns.move_legend(ax, bbox_to_anchor=(1,1.02), loc='upper left')"
   ]
  },
  {
   "cell_type": "code",
   "execution_count": null,
   "id": "096860e8-6827-49ab-8bce-adf2faf583b4",
   "metadata": {},
   "outputs": [],
   "source": []
  }
 ],
 "metadata": {
  "kernelspec": {
   "display_name": "Python 3 (ipykernel)",
   "language": "python",
   "name": "python3"
  },
  "language_info": {
   "codemirror_mode": {
    "name": "ipython",
    "version": 3
   },
   "file_extension": ".py",
   "mimetype": "text/x-python",
   "name": "python",
   "nbconvert_exporter": "python",
   "pygments_lexer": "ipython3",
   "version": "3.9.6"
  }
 },
 "nbformat": 4,
 "nbformat_minor": 5
}
